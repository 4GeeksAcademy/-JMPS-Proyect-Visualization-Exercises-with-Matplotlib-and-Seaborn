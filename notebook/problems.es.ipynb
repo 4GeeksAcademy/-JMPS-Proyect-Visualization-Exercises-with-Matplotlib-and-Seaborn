{
 "cells": [
  {
   "cell_type": "markdown",
   "metadata": {},
   "source": [
    "# 🧪 Ejercicios de Visualización con Matplotlib y Seaborn\n",
    "\n",
    "La visualización de datos es una de las herramientas más importantes en el análisis de datos y la ciencia de datos. No solo nos permite explorar y entender mejor los datos, sino que también nos ayuda a comunicar hallazgos de manera efectiva. A través de gráficos, podemos detectar patrones, relaciones y anomalías que serían difíciles de identificar solo con números o tablas."
   ]
  },
  {
   "cell_type": "code",
   "execution_count": 1,
   "metadata": {},
   "outputs": [],
   "source": [
    "# Importar librerías necesarias\n",
    "import matplotlib.pyplot as plt\n",
    "import seaborn as sns\n",
    "import pandas as pd\n",
    "import numpy as np\n",
    "\n",
    "# Crear datasets locales simulados\n",
    "df_carreras = pd.DataFrame({\n",
    "    'Carrera': ['Ingeniería', 'Medicina', 'Derecho', 'Psicología'],\n",
    "    'Estudiantes': [120, 80, 60, 100]\n",
    "})\n",
    "\n",
    "df_iris = pd.DataFrame({\n",
    "    'sepal_length': np.random.normal(5.8, 0.4, 150),\n",
    "    'sepal_width': np.random.normal(3.0, 0.3, 150),\n",
    "    'petal_length': np.random.normal(3.7, 1.5, 150),\n",
    "    'petal_width': np.random.normal(1.2, 0.8, 150),\n",
    "    'species': np.random.choice(['setosa', 'versicolor', 'virginica'], 150)\n",
    "})\n",
    "\n",
    "df_tips = pd.DataFrame({\n",
    "    'total_bill': np.random.uniform(10, 50, 100),\n",
    "    'tip': np.random.uniform(1, 10, 100),\n",
    "    'sex': np.random.choice(['Male', 'Female'], 100),\n",
    "    'smoker': np.random.choice(['Yes', 'No'], 100),\n",
    "    'day': np.random.choice(['Thur', 'Fri', 'Sat', 'Sun'], 100),\n",
    "    'time': np.random.choice(['Lunch', 'Dinner'], 100),\n",
    "    'size': np.random.randint(1, 6, 100)\n",
    "})"
   ]
  },
  {
   "cell_type": "markdown",
   "metadata": {},
   "source": [
    "### Ejercicio 1 - Gráfico de líneas simple\n",
    "\n",
    "Supongamos que, en mi oficina, me toma 10 segundos recorrer 25 metros caminando tranquilamente hacia la máquina de café. Si queremos expresar esta situación como una función lineal de la distancia respecto al tiempo, usamos la fórmula:\n",
    "\n",
    "$\n",
    "\\text{distancia} = \\text{velocidad} \\times \\text{tiempo}\n",
    "$\n",
    "\n",
    "\n",
    "\n",
    "Dado que la velocidad es constante, esta representa la pendiente de la función y se puede interpretar como la primera derivada de la distancia con respecto al tiempo. Es decir, nos indica qué tan rápido cambia la distancia mientras pasa el tiempo.\n",
    "\n",
    "Calcula la velocidad constante a la que camino, usando los datos entregados y construye la función lineal que describe cómo cambia la distancia con el tiempo. Usa Matplotlib para graficar esta función para valores de tiempo entre 0 y 10 segundos."
   ]
  },
  {
   "cell_type": "code",
   "execution_count": 3,
   "metadata": {},
   "outputs": [],
   "source": [
    "x = np.arange(0, 11) # array con valores de 0 a 10\n",
    "\n",
    "# tu codigo\n"
   ]
  },
  {
   "cell_type": "markdown",
   "metadata": {},
   "source": [
    "### Ejercicio 2 - Representar visualmente datos categóricos.\n",
    "\n",
    "Imagina que estamos analizando la cantidad de estudiantes matriculados en diferentes carreras dentro de una universidad. Estos datos categóricos (por carrera) pueden visualizarse fácilmente mediante un gráfico de barras, una de las formas más claras de comparar cantidades entre categorías.\n",
    "\n",
    "Contamos con el siguiente conjunto de datos representado en el DataFrame df_carreras:\n",
    "\n",
    "<!-- **📝 Instrucciones:**\n",
    "- Usa el DataFrame `df_carreras`.\n",
    "- Crea un gráfico de barras con `plt.bar`.\n",
    "- Añade etiquetas y título. -->"
   ]
  },
  {
   "cell_type": "code",
   "execution_count": 6,
   "id": "4a5aa110",
   "metadata": {},
   "outputs": [
    {
     "data": {
      "text/html": [
       "<div>\n",
       "<style scoped>\n",
       "    .dataframe tbody tr th:only-of-type {\n",
       "        vertical-align: middle;\n",
       "    }\n",
       "\n",
       "    .dataframe tbody tr th {\n",
       "        vertical-align: top;\n",
       "    }\n",
       "\n",
       "    .dataframe thead th {\n",
       "        text-align: right;\n",
       "    }\n",
       "</style>\n",
       "<table border=\"1\" class=\"dataframe\">\n",
       "  <thead>\n",
       "    <tr style=\"text-align: right;\">\n",
       "      <th></th>\n",
       "      <th>Carrera</th>\n",
       "      <th>Estudiantes</th>\n",
       "    </tr>\n",
       "  </thead>\n",
       "  <tbody>\n",
       "    <tr>\n",
       "      <th>0</th>\n",
       "      <td>Ingeniería</td>\n",
       "      <td>120</td>\n",
       "    </tr>\n",
       "    <tr>\n",
       "      <th>1</th>\n",
       "      <td>Medicina</td>\n",
       "      <td>80</td>\n",
       "    </tr>\n",
       "    <tr>\n",
       "      <th>2</th>\n",
       "      <td>Derecho</td>\n",
       "      <td>60</td>\n",
       "    </tr>\n",
       "    <tr>\n",
       "      <th>3</th>\n",
       "      <td>Psicología</td>\n",
       "      <td>100</td>\n",
       "    </tr>\n",
       "  </tbody>\n",
       "</table>\n",
       "</div>"
      ],
      "text/plain": [
       "      Carrera  Estudiantes\n",
       "0  Ingeniería          120\n",
       "1    Medicina           80\n",
       "2     Derecho           60\n",
       "3  Psicología          100"
      ]
     },
     "execution_count": 6,
     "metadata": {},
     "output_type": "execute_result"
    }
   ],
   "source": [
    "df_carreras "
   ]
  },
  {
   "cell_type": "markdown",
   "id": "989958c0",
   "metadata": {},
   "source": [
    "**Representa gráficamente cuántos estudiantes hay en cada carrera y utiliza un gráfico de barras vertical con Matplotlib. Recuerda añadir un título descriptivo, así como etiquetas en los ejes.**\n",
    "\n"
   ]
  },
  {
   "cell_type": "code",
   "execution_count": null,
   "id": "bb3a07cf",
   "metadata": {},
   "outputs": [],
   "source": [
    "# tu codigo"
   ]
  },
  {
   "cell_type": "markdown",
   "metadata": {},
   "source": [
    "## Ejercicio 3: Visualizar proporciones con un gráfico circular.\n",
    "\n",
    "Supongamos que deseas entender cómo se distribuyen los estudiantes entre distintas carreras en una universidad. Aunque ya has representado estos datos en un gráfico de barras, ahora quieres ver **qué porcentaje del total representa cada carrera** para tener una visión más global y proporcional.\n",
    "\n",
    "Una buena forma de hacerlo es mediante un **gráfico de pastel (pie chart)**, que permite visualizar proporciones de manera intuitiva.\n",
    "\n",
    "\n",
    "**Representa los datos de `df_carreras` como un gráfico de pastel y muestra el **porcentaje** que representa cada carrera sobre el total de estudiantes. Agrega también un **título** descriptivo que indique el propósito del gráfico.**"
   ]
  },
  {
   "cell_type": "code",
   "execution_count": 9,
   "metadata": {},
   "outputs": [],
   "source": [
    "# tu código"
   ]
  },
  {
   "cell_type": "markdown",
   "metadata": {},
   "source": [
    "## 4. Gráfico de dispersión con Seaborn"
   ]
  },
  {
   "cell_type": "markdown",
   "metadata": {},
   "source": [
    "### Ejercicio 4: Explorar la relación entre dos variables numéricas creando un gráfico de dispersión con Seaborn \n",
    "\n",
    "Imagina que estás analizando las características de distintas especies de flores. Cada flor tiene varias medidas: largo y ancho del sépalo, largo y ancho del pétalo, y una clasificación por especie. Una excelente forma de **visualizar la relación entre dos variables numéricas** (como el largo y ancho del sépalo) es mediante un **gráfico de dispersión (scatter plot)**.\n",
    "\n",
    "Este tipo de gráfico permite identificar posibles patrones, tendencias o agrupamientos según distintas especies.\n",
    "\n",
    "**Usa el conjunto de datos `df_iris` y grafica la relación entre `sepal_length` (eje x) y `sepal_width` (eje y). Diferencia las especies usando el argumento `hue` y añade un título descriptivo al gráfico.**\n"
   ]
  },
  {
   "cell_type": "code",
   "execution_count": 11,
   "metadata": {},
   "outputs": [],
   "source": [
    "# tu código"
   ]
  }
 ],
 "metadata": {
  "kernelspec": {
   "display_name": "Python 3",
   "language": "python",
   "name": "python3"
  },
  "language_info": {
   "codemirror_mode": {
    "name": "ipython",
    "version": 3
   },
   "file_extension": ".py",
   "mimetype": "text/x-python",
   "name": "python",
   "nbconvert_exporter": "python",
   "pygments_lexer": "ipython3",
   "version": "3.11.4"
  }
 },
 "nbformat": 4,
 "nbformat_minor": 5
}
